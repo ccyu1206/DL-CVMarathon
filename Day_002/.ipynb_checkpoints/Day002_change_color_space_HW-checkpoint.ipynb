{
 "cells": [
  {
   "cell_type": "markdown",
   "metadata": {},
   "source": [
    "# 作業\n",
    "\n",
    "使用 [Lena](http://optipng.sourceforge.net/pngtech/img/lena.png)\n",
    "\n",
    "- 改變圖片的 color space (`HLS`, `LAB`) 並呈現"
   ]
  },
  {
   "cell_type": "code",
   "execution_count": 1,
   "metadata": {},
   "outputs": [],
   "source": [
    "import cv2"
   ]
  },
  {
   "cell_type": "code",
   "execution_count": null,
   "metadata": {},
   "outputs": [],
   "source": [
    "img_path1 = \"./data/lena.png\"\n",
    "img1 = cv2.imread(img_path1, cv2.IMREAD_COLOR)\n",
    "\n",
    "img1_hls = cv2.cvtColor(img1, cv2.COLOR_BGR2HLS)\n",
    "img1_lab = cv2.cvtColor(img1, cv2.COLOR_BGR2LAB)\n",
    "\n",
    "while True:\n",
    "    cv2.imshow('hls', img1_hls)\n",
    "    cv2.imshow('lab', img1_lab)\n",
    "\n",
    "    # 直到按下 ESC 鍵才會自動關閉視窗結束程式\n",
    "    k = cv2.waitKey(0)\n",
    "    if k == 27:\n",
    "        cv2.destroyAllWindows()\n",
    "        break"
   ]
  },
  {
   "cell_type": "code",
   "execution_count": null,
   "metadata": {},
   "outputs": [],
   "source": [
    "img_path2 = \"./data/box_in_scene.png\"\n",
    "img2 = cv2.imread(img_path2, cv2.IMREAD_COLOR)\n",
    "\n",
    "img2_hls = cv2.cvtColor(img2, cv2.COLOR_BGR2HLS)\n",
    "img2_lab = cv2.cvtColor(img2, cv2.COLOR_BGR2LAB)\n",
    "\n",
    "while True:\n",
    "    cv2.imshow('hls', img2_hls)\n",
    "    cv2.imshow('lab', img2_lab)\n",
    "\n",
    "    # 直到按下 ESC 鍵才會自動關閉視窗結束程式\n",
    "    k = cv2.waitKey(0)\n",
    "    if k == 27:\n",
    "        cv2.destroyAllWindows()\n",
    "        break"
   ]
  },
  {
   "cell_type": "code",
   "execution_count": null,
   "metadata": {},
   "outputs": [],
   "source": [
    "img_path3 = \"./data/box.png\"\n",
    "img3 = cv2.imread(img_path3, cv2.IMREAD_COLOR)\n",
    "\n",
    "img3_hls = cv2.cvtColor(img3, cv2.COLOR_BGR2HLS)\n",
    "img3_lab = cv2.cvtColor(img3, cv2.COLOR_BGR2LAB)\n",
    "\n",
    "while True:\n",
    "    cv2.imshow('hls', img3_hls)\n",
    "    cv2.imshow('lab', img3_lab)\n",
    "\n",
    "    # 直到按下 ESC 鍵才會自動關閉視窗結束程式\n",
    "    k = cv2.waitKey(0)\n",
    "    if k == 27:\n",
    "        cv2.destroyAllWindows()\n",
    "        break"
   ]
  }
 ],
 "metadata": {
  "kernelspec": {
   "display_name": "Python 3",
   "language": "python",
   "name": "python3"
  },
  "language_info": {
   "codemirror_mode": {
    "name": "ipython",
    "version": 3
   },
   "file_extension": ".py",
   "mimetype": "text/x-python",
   "name": "python",
   "nbconvert_exporter": "python",
   "pygments_lexer": "ipython3",
   "version": "3.7.4"
  }
 },
 "nbformat": 4,
 "nbformat_minor": 4
}

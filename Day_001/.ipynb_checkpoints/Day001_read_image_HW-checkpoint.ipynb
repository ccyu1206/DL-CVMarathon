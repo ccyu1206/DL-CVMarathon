{
 "cells": [
  {
   "cell_type": "markdown",
   "metadata": {},
   "source": [
    "# 作業\n",
    "\n",
    "思考一下我們前面有提到圖片是矩陣，但維度可能會不一樣\n",
    "例如灰階圖只有兩個維度，RGB 彩圖則有 3 個維度\n",
    "\n",
    "假如今天我們把 RGB 3 個維度拆開來看會有甚麼不同的效果呢？"
   ]
  },
  {
   "cell_type": "code",
   "execution_count": 1,
   "metadata": {},
   "outputs": [],
   "source": [
    "# import OpenCV\n",
    "import cv2"
   ]
  },
  {
   "cell_type": "code",
   "execution_count": null,
   "metadata": {},
   "outputs": [],
   "source": [
    "# Lena.png\n",
    "img_path1 = 'data/lena.png'\n",
    "\n",
    "# 以彩色圖片的方式載入\n",
    "img1 = cv2.imread(img_path1, cv2.IMREAD_COLOR)\n",
    "\n",
    "# 為了要不斷顯示圖片，所以使用一個迴圈\n",
    "while True:\n",
    "    # 顯示灰圖\n",
    "    cv2.imshow('B', img1[:, :, 0])\n",
    "    cv2.imshow('G', img1[:, :, 1])\n",
    "    cv2.imshow('R', img1[:, : ,2])\n",
    "    # 直到按下 ESC 鍵才會自動關閉視窗結束程式\n",
    "    k = cv2.waitKey(0)\n",
    "    if k == 27:\n",
    "        cv2.destroyAllWindows()\n",
    "        break"
   ]
  },
  {
   "cell_type": "code",
   "execution_count": null,
   "metadata": {},
   "outputs": [],
   "source": [
    "# box_in_scene.png\n",
    "img_path2 = \"./data/box_in_scene.png\"\n",
    "\n",
    "img2 = cv2.imread(img_path2, cv2.IMREAD_COLOR)\n",
    "\n",
    "while True:\n",
    "    cv2.imshow('B', img2[:, :, 0])\n",
    "    cv2.imshow('G', img2[:, :, 1])\n",
    "    cv2.imshow('R', img2[:, :, 2])\n",
    "    k = cv2.waitKey(0)\n",
    "    if k == 27:\n",
    "        cv2.destroyAllWindows()\n",
    "        break"
   ]
  },
  {
   "cell_type": "code",
   "execution_count": null,
   "metadata": {},
   "outputs": [],
   "source": [
    "# box.png\n",
    "img_path3 = \"./data/box.png\"\n",
    "\n",
    "img3 = cv2.imread(img_path3, cv2.IMREAD_COLOR)\n",
    "\n",
    "while True:\n",
    "    cv2.imshow('B', img3[:, :, 0])\n",
    "    cv2.imshow('G', img3[:, :, 1])\n",
    "    cv2.imshow('R', img3[:, :, 2])\n",
    "    k = cv2.waitKey(0)\n",
    "    if k == 27:\n",
    "        cv2.destroyAllWindows()\n",
    "        break"
   ]
  }
 ],
 "metadata": {
  "kernelspec": {
   "display_name": "Python 3",
   "language": "python",
   "name": "python3"
  },
  "language_info": {
   "codemirror_mode": {
    "name": "ipython",
    "version": 3
   },
   "file_extension": ".py",
   "mimetype": "text/x-python",
   "name": "python",
   "nbconvert_exporter": "python",
   "pygments_lexer": "ipython3",
   "version": "3.7.4"
  }
 },
 "nbformat": 4,
 "nbformat_minor": 4
}
